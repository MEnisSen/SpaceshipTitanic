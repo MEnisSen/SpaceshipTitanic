{
 "cells": [
  {
   "cell_type": "code",
   "execution_count": 1,
   "id": "6e8b2c0a",
   "metadata": {
    "_cell_guid": "b1076dfc-b9ad-4769-8c92-a6c4dae69d19",
    "_uuid": "8f2839f25d086af736a60e9eeb907d3b93b6e0e5",
    "execution": {
     "iopub.execute_input": "2022-11-26T11:59:58.461864Z",
     "iopub.status.busy": "2022-11-26T11:59:58.460301Z",
     "iopub.status.idle": "2022-11-26T12:00:05.913324Z",
     "shell.execute_reply": "2022-11-26T12:00:05.911784Z"
    },
    "papermill": {
     "duration": 7.467464,
     "end_time": "2022-11-26T12:00:05.917501",
     "exception": false,
     "start_time": "2022-11-26T11:59:58.450037",
     "status": "completed"
    },
    "tags": []
   },
   "outputs": [],
   "source": [
    "import numpy as np\n",
    "import pandas as pd\n",
    "import os\n",
    "import tensorflow as tf\n",
    "from tensorflow.keras import regularizers"
   ]
  },
  {
   "cell_type": "code",
   "execution_count": 2,
   "id": "1cff7284",
   "metadata": {
    "execution": {
     "iopub.execute_input": "2022-11-26T12:00:05.933342Z",
     "iopub.status.busy": "2022-11-26T12:00:05.932610Z",
     "iopub.status.idle": "2022-11-26T12:00:05.941160Z",
     "shell.execute_reply": "2022-11-26T12:00:05.939584Z"
    },
    "papermill": {
     "duration": 0.019951,
     "end_time": "2022-11-26T12:00:05.944333",
     "exception": false,
     "start_time": "2022-11-26T12:00:05.924382",
     "status": "completed"
    },
    "tags": []
   },
   "outputs": [
    {
     "name": "stdout",
     "output_type": "stream",
     "text": [
      "/kaggle/input/spaceship-titanic/sample_submission.csv\n",
      "/kaggle/input/spaceship-titanic/train.csv\n",
      "/kaggle/input/spaceship-titanic/test.csv\n"
     ]
    }
   ],
   "source": [
    "for dirname, _, filenames in os.walk('/kaggle/input'):\n",
    "    for filename in filenames:\n",
    "        print(os.path.join(dirname, filename))"
   ]
  },
  {
   "cell_type": "code",
   "execution_count": 3,
   "id": "43497f25",
   "metadata": {
    "execution": {
     "iopub.execute_input": "2022-11-26T12:00:05.960069Z",
     "iopub.status.busy": "2022-11-26T12:00:05.959189Z",
     "iopub.status.idle": "2022-11-26T12:00:06.054684Z",
     "shell.execute_reply": "2022-11-26T12:00:06.053409Z"
    },
    "papermill": {
     "duration": 0.106492,
     "end_time": "2022-11-26T12:00:06.057189",
     "exception": false,
     "start_time": "2022-11-26T12:00:05.950697",
     "status": "completed"
    },
    "tags": []
   },
   "outputs": [
    {
     "data": {
      "text/plain": [
       "Index(['PassengerId', 'HomePlanet', 'CryoSleep', 'Cabin', 'Destination', 'Age',\n",
       "       'VIP', 'RoomService', 'FoodCourt', 'ShoppingMall', 'Spa', 'VRDeck',\n",
       "       'Name', 'Transported'],\n",
       "      dtype='object')"
      ]
     },
     "execution_count": 3,
     "metadata": {},
     "output_type": "execute_result"
    }
   ],
   "source": [
    "train_df = pd.read_csv('/kaggle/input/spaceship-titanic/train.csv')\n",
    "test_df = pd.read_csv('/kaggle/input/spaceship-titanic/test.csv')\n",
    "train_df.keys()"
   ]
  },
  {
   "cell_type": "code",
   "execution_count": 4,
   "id": "85691c3b",
   "metadata": {
    "execution": {
     "iopub.execute_input": "2022-11-26T12:00:06.073167Z",
     "iopub.status.busy": "2022-11-26T12:00:06.072358Z",
     "iopub.status.idle": "2022-11-26T12:00:06.103156Z",
     "shell.execute_reply": "2022-11-26T12:00:06.101747Z"
    },
    "papermill": {
     "duration": 0.042127,
     "end_time": "2022-11-26T12:00:06.106565",
     "exception": false,
     "start_time": "2022-11-26T12:00:06.064438",
     "status": "completed"
    },
    "tags": []
   },
   "outputs": [
    {
     "data": {
      "text/html": [
       "<div>\n",
       "<style scoped>\n",
       "    .dataframe tbody tr th:only-of-type {\n",
       "        vertical-align: middle;\n",
       "    }\n",
       "\n",
       "    .dataframe tbody tr th {\n",
       "        vertical-align: top;\n",
       "    }\n",
       "\n",
       "    .dataframe thead th {\n",
       "        text-align: right;\n",
       "    }\n",
       "</style>\n",
       "<table border=\"1\" class=\"dataframe\">\n",
       "  <thead>\n",
       "    <tr style=\"text-align: right;\">\n",
       "      <th></th>\n",
       "      <th>PassengerId</th>\n",
       "      <th>HomePlanet</th>\n",
       "      <th>CryoSleep</th>\n",
       "      <th>Cabin</th>\n",
       "      <th>Destination</th>\n",
       "      <th>Age</th>\n",
       "      <th>VIP</th>\n",
       "      <th>RoomService</th>\n",
       "      <th>FoodCourt</th>\n",
       "      <th>ShoppingMall</th>\n",
       "      <th>Spa</th>\n",
       "      <th>VRDeck</th>\n",
       "      <th>Name</th>\n",
       "      <th>Transported</th>\n",
       "    </tr>\n",
       "  </thead>\n",
       "  <tbody>\n",
       "    <tr>\n",
       "      <th>0</th>\n",
       "      <td>0001_01</td>\n",
       "      <td>Europa</td>\n",
       "      <td>False</td>\n",
       "      <td>B/0/P</td>\n",
       "      <td>TRAPPIST-1e</td>\n",
       "      <td>39.0</td>\n",
       "      <td>False</td>\n",
       "      <td>0.0</td>\n",
       "      <td>0.0</td>\n",
       "      <td>0.0</td>\n",
       "      <td>0.0</td>\n",
       "      <td>0.0</td>\n",
       "      <td>Maham Ofracculy</td>\n",
       "      <td>False</td>\n",
       "    </tr>\n",
       "    <tr>\n",
       "      <th>1</th>\n",
       "      <td>0002_01</td>\n",
       "      <td>Earth</td>\n",
       "      <td>False</td>\n",
       "      <td>F/0/S</td>\n",
       "      <td>TRAPPIST-1e</td>\n",
       "      <td>24.0</td>\n",
       "      <td>False</td>\n",
       "      <td>109.0</td>\n",
       "      <td>9.0</td>\n",
       "      <td>25.0</td>\n",
       "      <td>549.0</td>\n",
       "      <td>44.0</td>\n",
       "      <td>Juanna Vines</td>\n",
       "      <td>True</td>\n",
       "    </tr>\n",
       "    <tr>\n",
       "      <th>2</th>\n",
       "      <td>0003_01</td>\n",
       "      <td>Europa</td>\n",
       "      <td>False</td>\n",
       "      <td>A/0/S</td>\n",
       "      <td>TRAPPIST-1e</td>\n",
       "      <td>58.0</td>\n",
       "      <td>True</td>\n",
       "      <td>43.0</td>\n",
       "      <td>3576.0</td>\n",
       "      <td>0.0</td>\n",
       "      <td>6715.0</td>\n",
       "      <td>49.0</td>\n",
       "      <td>Altark Susent</td>\n",
       "      <td>False</td>\n",
       "    </tr>\n",
       "    <tr>\n",
       "      <th>3</th>\n",
       "      <td>0003_02</td>\n",
       "      <td>Europa</td>\n",
       "      <td>False</td>\n",
       "      <td>A/0/S</td>\n",
       "      <td>TRAPPIST-1e</td>\n",
       "      <td>33.0</td>\n",
       "      <td>False</td>\n",
       "      <td>0.0</td>\n",
       "      <td>1283.0</td>\n",
       "      <td>371.0</td>\n",
       "      <td>3329.0</td>\n",
       "      <td>193.0</td>\n",
       "      <td>Solam Susent</td>\n",
       "      <td>False</td>\n",
       "    </tr>\n",
       "    <tr>\n",
       "      <th>4</th>\n",
       "      <td>0004_01</td>\n",
       "      <td>Earth</td>\n",
       "      <td>False</td>\n",
       "      <td>F/1/S</td>\n",
       "      <td>TRAPPIST-1e</td>\n",
       "      <td>16.0</td>\n",
       "      <td>False</td>\n",
       "      <td>303.0</td>\n",
       "      <td>70.0</td>\n",
       "      <td>151.0</td>\n",
       "      <td>565.0</td>\n",
       "      <td>2.0</td>\n",
       "      <td>Willy Santantines</td>\n",
       "      <td>True</td>\n",
       "    </tr>\n",
       "  </tbody>\n",
       "</table>\n",
       "</div>"
      ],
      "text/plain": [
       "  PassengerId HomePlanet CryoSleep  Cabin  Destination   Age    VIP  \\\n",
       "0     0001_01     Europa     False  B/0/P  TRAPPIST-1e  39.0  False   \n",
       "1     0002_01      Earth     False  F/0/S  TRAPPIST-1e  24.0  False   \n",
       "2     0003_01     Europa     False  A/0/S  TRAPPIST-1e  58.0   True   \n",
       "3     0003_02     Europa     False  A/0/S  TRAPPIST-1e  33.0  False   \n",
       "4     0004_01      Earth     False  F/1/S  TRAPPIST-1e  16.0  False   \n",
       "\n",
       "   RoomService  FoodCourt  ShoppingMall     Spa  VRDeck               Name  \\\n",
       "0          0.0        0.0           0.0     0.0     0.0    Maham Ofracculy   \n",
       "1        109.0        9.0          25.0   549.0    44.0       Juanna Vines   \n",
       "2         43.0     3576.0           0.0  6715.0    49.0      Altark Susent   \n",
       "3          0.0     1283.0         371.0  3329.0   193.0       Solam Susent   \n",
       "4        303.0       70.0         151.0   565.0     2.0  Willy Santantines   \n",
       "\n",
       "   Transported  \n",
       "0        False  \n",
       "1         True  \n",
       "2        False  \n",
       "3        False  \n",
       "4         True  "
      ]
     },
     "execution_count": 4,
     "metadata": {},
     "output_type": "execute_result"
    }
   ],
   "source": [
    "train_df.head()"
   ]
  },
  {
   "cell_type": "markdown",
   "id": "10fcd63c",
   "metadata": {
    "papermill": {
     "duration": 0.006343,
     "end_time": "2022-11-26T12:00:06.120037",
     "exception": false,
     "start_time": "2022-11-26T12:00:06.113694",
     "status": "completed"
    },
    "tags": []
   },
   "source": [
    "# **Data Processing**"
   ]
  },
  {
   "cell_type": "code",
   "execution_count": 5,
   "id": "4bcf42ee",
   "metadata": {
    "execution": {
     "iopub.execute_input": "2022-11-26T12:00:06.135945Z",
     "iopub.status.busy": "2022-11-26T12:00:06.135489Z",
     "iopub.status.idle": "2022-11-26T12:00:06.152466Z",
     "shell.execute_reply": "2022-11-26T12:00:06.150972Z"
    },
    "papermill": {
     "duration": 0.02796,
     "end_time": "2022-11-26T12:00:06.155558",
     "exception": false,
     "start_time": "2022-11-26T12:00:06.127598",
     "status": "completed"
    },
    "tags": []
   },
   "outputs": [],
   "source": [
    "train_df = train_df.drop(columns=['PassengerId', 'Name'])\n",
    "test_df = test_df.drop(columns=['PassengerId', 'Name'])"
   ]
  },
  {
   "cell_type": "code",
   "execution_count": 6,
   "id": "61b7c7db",
   "metadata": {
    "execution": {
     "iopub.execute_input": "2022-11-26T12:00:06.171777Z",
     "iopub.status.busy": "2022-11-26T12:00:06.171067Z",
     "iopub.status.idle": "2022-11-26T12:00:06.219135Z",
     "shell.execute_reply": "2022-11-26T12:00:06.217466Z"
    },
    "papermill": {
     "duration": 0.060205,
     "end_time": "2022-11-26T12:00:06.222603",
     "exception": false,
     "start_time": "2022-11-26T12:00:06.162398",
     "status": "completed"
    },
    "tags": []
   },
   "outputs": [],
   "source": [
    "# Cabin Column\n",
    "train_df[[\"Cabin1\",\"Cabin2\",\"Cabin3\"]]= train_df[\"Cabin\"].str.split(\"/\", expand = True)\n",
    "train_df[\"Cabin2\"] = train_df[\"Cabin2\"].astype(float)\n",
    "\n",
    "test_df[[\"Cabin1\",\"Cabin2\",\"Cabin3\"]]= test_df[\"Cabin\"].str.split(\"/\", expand = True)\n",
    "test_df[\"Cabin2\"] = test_df[\"Cabin2\"].astype(float)\n",
    "\n",
    "train_df = train_df.drop(columns=['Cabin'])\n",
    "test_df = test_df.drop(columns=['Cabin'])"
   ]
  },
  {
   "cell_type": "code",
   "execution_count": 7,
   "id": "0f735289",
   "metadata": {
    "execution": {
     "iopub.execute_input": "2022-11-26T12:00:06.240612Z",
     "iopub.status.busy": "2022-11-26T12:00:06.239349Z",
     "iopub.status.idle": "2022-11-26T12:00:06.257876Z",
     "shell.execute_reply": "2022-11-26T12:00:06.256066Z"
    },
    "papermill": {
     "duration": 0.031438,
     "end_time": "2022-11-26T12:00:06.260685",
     "exception": false,
     "start_time": "2022-11-26T12:00:06.229247",
     "status": "completed"
    },
    "tags": []
   },
   "outputs": [
    {
     "data": {
      "text/plain": [
       "HomePlanet      201\n",
       "CryoSleep       217\n",
       "Destination     182\n",
       "Age             179\n",
       "VIP             203\n",
       "RoomService     181\n",
       "FoodCourt       183\n",
       "ShoppingMall    208\n",
       "Spa             183\n",
       "VRDeck          188\n",
       "Transported       0\n",
       "Cabin1          199\n",
       "Cabin2          199\n",
       "Cabin3          199\n",
       "dtype: int64"
      ]
     },
     "execution_count": 7,
     "metadata": {},
     "output_type": "execute_result"
    }
   ],
   "source": [
    "train_df.isna().sum()"
   ]
  },
  {
   "cell_type": "code",
   "execution_count": 8,
   "id": "3bef2acc",
   "metadata": {
    "execution": {
     "iopub.execute_input": "2022-11-26T12:00:06.277579Z",
     "iopub.status.busy": "2022-11-26T12:00:06.277078Z",
     "iopub.status.idle": "2022-11-26T12:00:06.289359Z",
     "shell.execute_reply": "2022-11-26T12:00:06.287721Z"
    },
    "papermill": {
     "duration": 0.023989,
     "end_time": "2022-11-26T12:00:06.292149",
     "exception": false,
     "start_time": "2022-11-26T12:00:06.268160",
     "status": "completed"
    },
    "tags": []
   },
   "outputs": [
    {
     "data": {
      "text/plain": [
       "HomePlanet       object\n",
       "CryoSleep        object\n",
       "Destination      object\n",
       "Age             float64\n",
       "VIP              object\n",
       "RoomService     float64\n",
       "FoodCourt       float64\n",
       "ShoppingMall    float64\n",
       "Spa             float64\n",
       "VRDeck          float64\n",
       "Transported        bool\n",
       "Cabin1           object\n",
       "Cabin2          float64\n",
       "Cabin3           object\n",
       "dtype: object"
      ]
     },
     "execution_count": 8,
     "metadata": {},
     "output_type": "execute_result"
    }
   ],
   "source": [
    "object_cols = [col for col in train_df.keys() if train_df[col].dtypes == 'object']\n",
    "float_cols = [col for col in train_df.keys() if train_df[col].dtypes == 'float64']\n",
    "train_df.dtypes"
   ]
  },
  {
   "cell_type": "code",
   "execution_count": 9,
   "id": "38c221db",
   "metadata": {
    "execution": {
     "iopub.execute_input": "2022-11-26T12:00:06.308215Z",
     "iopub.status.busy": "2022-11-26T12:00:06.307404Z",
     "iopub.status.idle": "2022-11-26T12:00:06.333877Z",
     "shell.execute_reply": "2022-11-26T12:00:06.332628Z"
    },
    "papermill": {
     "duration": 0.037715,
     "end_time": "2022-11-26T12:00:06.336804",
     "exception": false,
     "start_time": "2022-11-26T12:00:06.299089",
     "status": "completed"
    },
    "tags": []
   },
   "outputs": [],
   "source": [
    "# Replace NA Values in Object Datatype Columns with random values\n",
    "for col in object_cols:\n",
    "    unique_vals = train_df[col].unique().tolist()\n",
    "    unique_vals = [item for item in unique_vals if str(item) != 'nan']\n",
    "    train_df[col] = train_df[col].fillna(unique_vals[np.random.randint(0,len(unique_vals))])\n",
    "    \n",
    "# Replace NA Values in Float64 Datatype Columns with random values\n",
    "for col in float_cols:\n",
    "    avg_col = train_df[col].mean()\n",
    "    train_df[col] = train_df[col].fillna(avg_col)   "
   ]
  },
  {
   "cell_type": "code",
   "execution_count": 10,
   "id": "03487c29",
   "metadata": {
    "execution": {
     "iopub.execute_input": "2022-11-26T12:00:06.353089Z",
     "iopub.status.busy": "2022-11-26T12:00:06.352690Z",
     "iopub.status.idle": "2022-11-26T12:00:06.425859Z",
     "shell.execute_reply": "2022-11-26T12:00:06.424491Z"
    },
    "papermill": {
     "duration": 0.08487,
     "end_time": "2022-11-26T12:00:06.428700",
     "exception": false,
     "start_time": "2022-11-26T12:00:06.343830",
     "status": "completed"
    },
    "tags": []
   },
   "outputs": [],
   "source": [
    "# Convert Object dtype columns\n",
    "for col in object_cols:\n",
    "    test_df[col].replace(train_df[col].unique(), range(len(train_df[col].unique())), inplace=True)\n",
    "    train_df[col].replace(train_df[col].unique(), range(len(train_df[col].unique())), inplace=True)\n",
    "    \n",
    "train_df['Transported'].replace(train_df['Transported'].unique(), range(len(train_df['Transported'].unique())), inplace=True)"
   ]
  },
  {
   "cell_type": "code",
   "execution_count": 11,
   "id": "67ba1e33",
   "metadata": {
    "execution": {
     "iopub.execute_input": "2022-11-26T12:00:06.445417Z",
     "iopub.status.busy": "2022-11-26T12:00:06.444963Z",
     "iopub.status.idle": "2022-11-26T12:00:06.454867Z",
     "shell.execute_reply": "2022-11-26T12:00:06.453454Z"
    },
    "papermill": {
     "duration": 0.022244,
     "end_time": "2022-11-26T12:00:06.458035",
     "exception": false,
     "start_time": "2022-11-26T12:00:06.435791",
     "status": "completed"
    },
    "tags": []
   },
   "outputs": [],
   "source": [
    "# Switch column order to put'Transported' to the end\n",
    "train_df = train_df[list(test_df.columns.values) + ['Transported']]"
   ]
  },
  {
   "cell_type": "code",
   "execution_count": 12,
   "id": "2474c6f1",
   "metadata": {
    "execution": {
     "iopub.execute_input": "2022-11-26T12:00:06.475365Z",
     "iopub.status.busy": "2022-11-26T12:00:06.474937Z",
     "iopub.status.idle": "2022-11-26T12:00:06.495689Z",
     "shell.execute_reply": "2022-11-26T12:00:06.494457Z"
    },
    "papermill": {
     "duration": 0.032049,
     "end_time": "2022-11-26T12:00:06.498068",
     "exception": false,
     "start_time": "2022-11-26T12:00:06.466019",
     "status": "completed"
    },
    "tags": []
   },
   "outputs": [
    {
     "data": {
      "text/html": [
       "<div>\n",
       "<style scoped>\n",
       "    .dataframe tbody tr th:only-of-type {\n",
       "        vertical-align: middle;\n",
       "    }\n",
       "\n",
       "    .dataframe tbody tr th {\n",
       "        vertical-align: top;\n",
       "    }\n",
       "\n",
       "    .dataframe thead th {\n",
       "        text-align: right;\n",
       "    }\n",
       "</style>\n",
       "<table border=\"1\" class=\"dataframe\">\n",
       "  <thead>\n",
       "    <tr style=\"text-align: right;\">\n",
       "      <th></th>\n",
       "      <th>HomePlanet</th>\n",
       "      <th>CryoSleep</th>\n",
       "      <th>Destination</th>\n",
       "      <th>Age</th>\n",
       "      <th>VIP</th>\n",
       "      <th>RoomService</th>\n",
       "      <th>FoodCourt</th>\n",
       "      <th>ShoppingMall</th>\n",
       "      <th>Spa</th>\n",
       "      <th>VRDeck</th>\n",
       "      <th>Cabin1</th>\n",
       "      <th>Cabin2</th>\n",
       "      <th>Cabin3</th>\n",
       "      <th>Transported</th>\n",
       "    </tr>\n",
       "  </thead>\n",
       "  <tbody>\n",
       "    <tr>\n",
       "      <th>0</th>\n",
       "      <td>0</td>\n",
       "      <td>0</td>\n",
       "      <td>0</td>\n",
       "      <td>39.0</td>\n",
       "      <td>0</td>\n",
       "      <td>0.0</td>\n",
       "      <td>0.0</td>\n",
       "      <td>0.0</td>\n",
       "      <td>0.0</td>\n",
       "      <td>0.0</td>\n",
       "      <td>0</td>\n",
       "      <td>0.0</td>\n",
       "      <td>0</td>\n",
       "      <td>0</td>\n",
       "    </tr>\n",
       "    <tr>\n",
       "      <th>1</th>\n",
       "      <td>1</td>\n",
       "      <td>0</td>\n",
       "      <td>0</td>\n",
       "      <td>24.0</td>\n",
       "      <td>0</td>\n",
       "      <td>109.0</td>\n",
       "      <td>9.0</td>\n",
       "      <td>25.0</td>\n",
       "      <td>549.0</td>\n",
       "      <td>44.0</td>\n",
       "      <td>1</td>\n",
       "      <td>0.0</td>\n",
       "      <td>1</td>\n",
       "      <td>1</td>\n",
       "    </tr>\n",
       "    <tr>\n",
       "      <th>2</th>\n",
       "      <td>0</td>\n",
       "      <td>0</td>\n",
       "      <td>0</td>\n",
       "      <td>58.0</td>\n",
       "      <td>1</td>\n",
       "      <td>43.0</td>\n",
       "      <td>3576.0</td>\n",
       "      <td>0.0</td>\n",
       "      <td>6715.0</td>\n",
       "      <td>49.0</td>\n",
       "      <td>2</td>\n",
       "      <td>0.0</td>\n",
       "      <td>1</td>\n",
       "      <td>0</td>\n",
       "    </tr>\n",
       "    <tr>\n",
       "      <th>3</th>\n",
       "      <td>0</td>\n",
       "      <td>0</td>\n",
       "      <td>0</td>\n",
       "      <td>33.0</td>\n",
       "      <td>0</td>\n",
       "      <td>0.0</td>\n",
       "      <td>1283.0</td>\n",
       "      <td>371.0</td>\n",
       "      <td>3329.0</td>\n",
       "      <td>193.0</td>\n",
       "      <td>2</td>\n",
       "      <td>0.0</td>\n",
       "      <td>1</td>\n",
       "      <td>0</td>\n",
       "    </tr>\n",
       "    <tr>\n",
       "      <th>4</th>\n",
       "      <td>1</td>\n",
       "      <td>0</td>\n",
       "      <td>0</td>\n",
       "      <td>16.0</td>\n",
       "      <td>0</td>\n",
       "      <td>303.0</td>\n",
       "      <td>70.0</td>\n",
       "      <td>151.0</td>\n",
       "      <td>565.0</td>\n",
       "      <td>2.0</td>\n",
       "      <td>1</td>\n",
       "      <td>1.0</td>\n",
       "      <td>1</td>\n",
       "      <td>1</td>\n",
       "    </tr>\n",
       "  </tbody>\n",
       "</table>\n",
       "</div>"
      ],
      "text/plain": [
       "   HomePlanet  CryoSleep  Destination   Age  VIP  RoomService  FoodCourt  \\\n",
       "0           0          0            0  39.0    0          0.0        0.0   \n",
       "1           1          0            0  24.0    0        109.0        9.0   \n",
       "2           0          0            0  58.0    1         43.0     3576.0   \n",
       "3           0          0            0  33.0    0          0.0     1283.0   \n",
       "4           1          0            0  16.0    0        303.0       70.0   \n",
       "\n",
       "   ShoppingMall     Spa  VRDeck  Cabin1  Cabin2  Cabin3  Transported  \n",
       "0           0.0     0.0     0.0       0     0.0       0            0  \n",
       "1          25.0   549.0    44.0       1     0.0       1            1  \n",
       "2           0.0  6715.0    49.0       2     0.0       1            0  \n",
       "3         371.0  3329.0   193.0       2     0.0       1            0  \n",
       "4         151.0   565.0     2.0       1     1.0       1            1  "
      ]
     },
     "execution_count": 12,
     "metadata": {},
     "output_type": "execute_result"
    }
   ],
   "source": [
    "train_df.head()"
   ]
  },
  {
   "cell_type": "code",
   "execution_count": 13,
   "id": "7ee4ba02",
   "metadata": {
    "execution": {
     "iopub.execute_input": "2022-11-26T12:00:06.515052Z",
     "iopub.status.busy": "2022-11-26T12:00:06.514328Z",
     "iopub.status.idle": "2022-11-26T12:00:06.537644Z",
     "shell.execute_reply": "2022-11-26T12:00:06.536813Z"
    },
    "papermill": {
     "duration": 0.034384,
     "end_time": "2022-11-26T12:00:06.539956",
     "exception": false,
     "start_time": "2022-11-26T12:00:06.505572",
     "status": "completed"
    },
    "tags": []
   },
   "outputs": [
    {
     "data": {
      "text/html": [
       "<div>\n",
       "<style scoped>\n",
       "    .dataframe tbody tr th:only-of-type {\n",
       "        vertical-align: middle;\n",
       "    }\n",
       "\n",
       "    .dataframe tbody tr th {\n",
       "        vertical-align: top;\n",
       "    }\n",
       "\n",
       "    .dataframe thead th {\n",
       "        text-align: right;\n",
       "    }\n",
       "</style>\n",
       "<table border=\"1\" class=\"dataframe\">\n",
       "  <thead>\n",
       "    <tr style=\"text-align: right;\">\n",
       "      <th></th>\n",
       "      <th>HomePlanet</th>\n",
       "      <th>CryoSleep</th>\n",
       "      <th>Destination</th>\n",
       "      <th>Age</th>\n",
       "      <th>VIP</th>\n",
       "      <th>RoomService</th>\n",
       "      <th>FoodCourt</th>\n",
       "      <th>ShoppingMall</th>\n",
       "      <th>Spa</th>\n",
       "      <th>VRDeck</th>\n",
       "      <th>Cabin1</th>\n",
       "      <th>Cabin2</th>\n",
       "      <th>Cabin3</th>\n",
       "    </tr>\n",
       "  </thead>\n",
       "  <tbody>\n",
       "    <tr>\n",
       "      <th>0</th>\n",
       "      <td>1.0</td>\n",
       "      <td>1.0</td>\n",
       "      <td>0.0</td>\n",
       "      <td>27.0</td>\n",
       "      <td>0.0</td>\n",
       "      <td>0.0</td>\n",
       "      <td>0.0</td>\n",
       "      <td>0.0</td>\n",
       "      <td>0.0</td>\n",
       "      <td>0.0</td>\n",
       "      <td>3.0</td>\n",
       "      <td>3.0</td>\n",
       "      <td>1.0</td>\n",
       "    </tr>\n",
       "    <tr>\n",
       "      <th>1</th>\n",
       "      <td>1.0</td>\n",
       "      <td>0.0</td>\n",
       "      <td>0.0</td>\n",
       "      <td>19.0</td>\n",
       "      <td>0.0</td>\n",
       "      <td>0.0</td>\n",
       "      <td>9.0</td>\n",
       "      <td>0.0</td>\n",
       "      <td>2823.0</td>\n",
       "      <td>0.0</td>\n",
       "      <td>1.0</td>\n",
       "      <td>4.0</td>\n",
       "      <td>1.0</td>\n",
       "    </tr>\n",
       "    <tr>\n",
       "      <th>2</th>\n",
       "      <td>0.0</td>\n",
       "      <td>1.0</td>\n",
       "      <td>2.0</td>\n",
       "      <td>31.0</td>\n",
       "      <td>0.0</td>\n",
       "      <td>0.0</td>\n",
       "      <td>0.0</td>\n",
       "      <td>0.0</td>\n",
       "      <td>0.0</td>\n",
       "      <td>0.0</td>\n",
       "      <td>6.0</td>\n",
       "      <td>0.0</td>\n",
       "      <td>1.0</td>\n",
       "    </tr>\n",
       "    <tr>\n",
       "      <th>3</th>\n",
       "      <td>0.0</td>\n",
       "      <td>0.0</td>\n",
       "      <td>0.0</td>\n",
       "      <td>38.0</td>\n",
       "      <td>0.0</td>\n",
       "      <td>0.0</td>\n",
       "      <td>6652.0</td>\n",
       "      <td>0.0</td>\n",
       "      <td>181.0</td>\n",
       "      <td>585.0</td>\n",
       "      <td>6.0</td>\n",
       "      <td>1.0</td>\n",
       "      <td>1.0</td>\n",
       "    </tr>\n",
       "    <tr>\n",
       "      <th>4</th>\n",
       "      <td>1.0</td>\n",
       "      <td>0.0</td>\n",
       "      <td>0.0</td>\n",
       "      <td>20.0</td>\n",
       "      <td>0.0</td>\n",
       "      <td>10.0</td>\n",
       "      <td>0.0</td>\n",
       "      <td>635.0</td>\n",
       "      <td>0.0</td>\n",
       "      <td>0.0</td>\n",
       "      <td>1.0</td>\n",
       "      <td>5.0</td>\n",
       "      <td>1.0</td>\n",
       "    </tr>\n",
       "  </tbody>\n",
       "</table>\n",
       "</div>"
      ],
      "text/plain": [
       "   HomePlanet  CryoSleep  Destination   Age  VIP  RoomService  FoodCourt  \\\n",
       "0         1.0        1.0          0.0  27.0  0.0          0.0        0.0   \n",
       "1         1.0        0.0          0.0  19.0  0.0          0.0        9.0   \n",
       "2         0.0        1.0          2.0  31.0  0.0          0.0        0.0   \n",
       "3         0.0        0.0          0.0  38.0  0.0          0.0     6652.0   \n",
       "4         1.0        0.0          0.0  20.0  0.0         10.0        0.0   \n",
       "\n",
       "   ShoppingMall     Spa  VRDeck  Cabin1  Cabin2  Cabin3  \n",
       "0           0.0     0.0     0.0     3.0     3.0     1.0  \n",
       "1           0.0  2823.0     0.0     1.0     4.0     1.0  \n",
       "2           0.0     0.0     0.0     6.0     0.0     1.0  \n",
       "3           0.0   181.0   585.0     6.0     1.0     1.0  \n",
       "4         635.0     0.0     0.0     1.0     5.0     1.0  "
      ]
     },
     "execution_count": 13,
     "metadata": {},
     "output_type": "execute_result"
    }
   ],
   "source": [
    "test_df.head()"
   ]
  },
  {
   "cell_type": "code",
   "execution_count": 14,
   "id": "fc17c56d",
   "metadata": {
    "execution": {
     "iopub.execute_input": "2022-11-26T12:00:06.558782Z",
     "iopub.status.busy": "2022-11-26T12:00:06.558136Z",
     "iopub.status.idle": "2022-11-26T12:00:06.571148Z",
     "shell.execute_reply": "2022-11-26T12:00:06.569823Z"
    },
    "papermill": {
     "duration": 0.025686,
     "end_time": "2022-11-26T12:00:06.573991",
     "exception": false,
     "start_time": "2022-11-26T12:00:06.548305",
     "status": "completed"
    },
    "tags": []
   },
   "outputs": [],
   "source": [
    "train_df = train_df.sample(frac = 1)\n",
    "SPLIT_SIZE = 0.7\n",
    "\n",
    "data = train_df.iloc[:,:-1].to_numpy()\n",
    "labels = train_df.pop('Transported').to_numpy()\n",
    "\n",
    "train_size = int(data.shape[0]*SPLIT_SIZE)\n",
    "train_data = data[:train_size]\n",
    "train_labels = labels[:train_size]\n",
    "\n",
    "val_data = data[train_size:]\n",
    "val_labels = labels[train_size:]"
   ]
  },
  {
   "cell_type": "markdown",
   "id": "27de850c",
   "metadata": {
    "papermill": {
     "duration": 0.007363,
     "end_time": "2022-11-26T12:00:06.589053",
     "exception": false,
     "start_time": "2022-11-26T12:00:06.581690",
     "status": "completed"
    },
    "tags": []
   },
   "source": [
    "# **Model**"
   ]
  },
  {
   "cell_type": "code",
   "execution_count": 15,
   "id": "de735e25",
   "metadata": {
    "execution": {
     "iopub.execute_input": "2022-11-26T12:00:06.607305Z",
     "iopub.status.busy": "2022-11-26T12:00:06.606865Z",
     "iopub.status.idle": "2022-11-26T12:00:06.882084Z",
     "shell.execute_reply": "2022-11-26T12:00:06.880471Z"
    },
    "papermill": {
     "duration": 0.288637,
     "end_time": "2022-11-26T12:00:06.885703",
     "exception": false,
     "start_time": "2022-11-26T12:00:06.597066",
     "status": "completed"
    },
    "tags": []
   },
   "outputs": [
    {
     "name": "stderr",
     "output_type": "stream",
     "text": [
      "2022-11-26 12:00:06.656835: I tensorflow/core/common_runtime/process_util.cc:146] Creating new thread pool with default inter op setting: 2. Tune using inter_op_parallelism_threads for best performance.\n"
     ]
    }
   ],
   "source": [
    "model = tf.keras.Sequential([\n",
    "    tf.keras.layers.Dense(256, activation='relu',kernel_regularizer=regularizers.L1L2(l1=1e-5, l2=1e-4)),\n",
    "    #tf.keras.layers.Dropout(0.2),\n",
    "    tf.keras.layers.Dense(128, activation='relu',kernel_regularizer=regularizers.L1L2(l1=1e-5, l2=1e-4)),\n",
    "    #tf.keras.layers.Dropout(0.2),\n",
    "    tf.keras.layers.Dense(64, activation='relu',kernel_regularizer=regularizers.L1L2(l1=1e-5, l2=1e-4)),\n",
    "    #tf.keras.layers.Dropout(0.2),\n",
    "    tf.keras.layers.Dense(1, activation='sigmoid')\n",
    "])\n",
    "\n",
    "model.compile(loss = 'binary_crossentropy', optimizer = 'adam', metrics = ['accuracy'])"
   ]
  },
  {
   "cell_type": "code",
   "execution_count": 16,
   "id": "4c5d6f61",
   "metadata": {
    "execution": {
     "iopub.execute_input": "2022-11-26T12:00:06.903254Z",
     "iopub.status.busy": "2022-11-26T12:00:06.902813Z",
     "iopub.status.idle": "2022-11-26T12:00:49.040903Z",
     "shell.execute_reply": "2022-11-26T12:00:49.039358Z"
    },
    "papermill": {
     "duration": 42.184667,
     "end_time": "2022-11-26T12:00:49.077842",
     "exception": false,
     "start_time": "2022-11-26T12:00:06.893175",
     "status": "completed"
    },
    "scrolled": true,
    "tags": []
   },
   "outputs": [
    {
     "name": "stderr",
     "output_type": "stream",
     "text": [
      "2022-11-26 12:00:06.998487: I tensorflow/compiler/mlir/mlir_graph_optimization_pass.cc:185] None of the MLIR Optimization Passes are enabled (registered 2)\n"
     ]
    },
    {
     "name": "stdout",
     "output_type": "stream",
     "text": [
      "Epoch 1/40\n",
      "96/96 [==============================] - 2s 10ms/step - loss: 4.2383 - accuracy: 0.7006 - val_loss: 3.3545 - val_accuracy: 0.6039\n",
      "Epoch 2/40\n",
      "96/96 [==============================] - 1s 6ms/step - loss: 2.0416 - accuracy: 0.7185 - val_loss: 4.8889 - val_accuracy: 0.5936\n",
      "Epoch 3/40\n",
      "96/96 [==============================] - 1s 6ms/step - loss: 2.0761 - accuracy: 0.7272 - val_loss: 1.4479 - val_accuracy: 0.7327\n",
      "Epoch 4/40\n",
      "96/96 [==============================] - 1s 6ms/step - loss: 1.2422 - accuracy: 0.7349 - val_loss: 0.9946 - val_accuracy: 0.7400\n",
      "Epoch 5/40\n",
      "96/96 [==============================] - 1s 5ms/step - loss: 1.0972 - accuracy: 0.7267 - val_loss: 0.9630 - val_accuracy: 0.7262\n",
      "Epoch 6/40\n",
      "96/96 [==============================] - 1s 6ms/step - loss: 0.9476 - accuracy: 0.7408 - val_loss: 0.9378 - val_accuracy: 0.7715\n",
      "Epoch 7/40\n",
      "96/96 [==============================] - 1s 6ms/step - loss: 0.8940 - accuracy: 0.7351 - val_loss: 0.8158 - val_accuracy: 0.7393\n",
      "Epoch 8/40\n",
      "96/96 [==============================] - 1s 6ms/step - loss: 0.8975 - accuracy: 0.7422 - val_loss: 0.8341 - val_accuracy: 0.7427\n",
      "Epoch 9/40\n",
      "96/96 [==============================] - 1s 5ms/step - loss: 0.7062 - accuracy: 0.7615 - val_loss: 0.7980 - val_accuracy: 0.7086\n",
      "Epoch 10/40\n",
      "96/96 [==============================] - 0s 5ms/step - loss: 0.6718 - accuracy: 0.7620 - val_loss: 0.7195 - val_accuracy: 0.7423\n",
      "Epoch 11/40\n",
      "96/96 [==============================] - 1s 5ms/step - loss: 0.8734 - accuracy: 0.7527 - val_loss: 0.7617 - val_accuracy: 0.7550\n",
      "Epoch 12/40\n",
      "96/96 [==============================] - 1s 5ms/step - loss: 0.6616 - accuracy: 0.7670 - val_loss: 0.7074 - val_accuracy: 0.7446\n",
      "Epoch 13/40\n",
      "96/96 [==============================] - 1s 6ms/step - loss: 0.6196 - accuracy: 0.7706 - val_loss: 0.6109 - val_accuracy: 0.7565\n",
      "Epoch 14/40\n",
      "96/96 [==============================] - 1s 5ms/step - loss: 0.6006 - accuracy: 0.7714 - val_loss: 0.6313 - val_accuracy: 0.7642\n",
      "Epoch 15/40\n",
      "96/96 [==============================] - 1s 5ms/step - loss: 0.6258 - accuracy: 0.7601 - val_loss: 0.6081 - val_accuracy: 0.7646\n",
      "Epoch 16/40\n",
      "96/96 [==============================] - 0s 5ms/step - loss: 0.5626 - accuracy: 0.7768 - val_loss: 0.6123 - val_accuracy: 0.7661\n",
      "Epoch 17/40\n",
      "96/96 [==============================] - 1s 6ms/step - loss: 0.5819 - accuracy: 0.7745 - val_loss: 0.5855 - val_accuracy: 0.7719\n",
      "Epoch 18/40\n",
      "96/96 [==============================] - 0s 5ms/step - loss: 0.5451 - accuracy: 0.7808 - val_loss: 0.6116 - val_accuracy: 0.7565\n",
      "Epoch 19/40\n",
      "96/96 [==============================] - 1s 5ms/step - loss: 0.5559 - accuracy: 0.7791 - val_loss: 0.5884 - val_accuracy: 0.7711\n",
      "Epoch 20/40\n",
      "96/96 [==============================] - 1s 5ms/step - loss: 0.5380 - accuracy: 0.7778 - val_loss: 0.5697 - val_accuracy: 0.7707\n",
      "Epoch 21/40\n",
      "96/96 [==============================] - 1s 5ms/step - loss: 0.5396 - accuracy: 0.7839 - val_loss: 0.5974 - val_accuracy: 0.7665\n",
      "Epoch 22/40\n",
      "96/96 [==============================] - 1s 5ms/step - loss: 0.5363 - accuracy: 0.7803 - val_loss: 0.5685 - val_accuracy: 0.7688\n",
      "Epoch 23/40\n",
      "96/96 [==============================] - 0s 5ms/step - loss: 0.5297 - accuracy: 0.7831 - val_loss: 0.5589 - val_accuracy: 0.7722\n",
      "Epoch 24/40\n",
      "96/96 [==============================] - 0s 5ms/step - loss: 0.5373 - accuracy: 0.7796 - val_loss: 0.6290 - val_accuracy: 0.7178\n",
      "Epoch 25/40\n",
      "96/96 [==============================] - 0s 5ms/step - loss: 0.5646 - accuracy: 0.7739 - val_loss: 0.5882 - val_accuracy: 0.7600\n",
      "Epoch 26/40\n",
      "96/96 [==============================] - 1s 6ms/step - loss: 0.5368 - accuracy: 0.7808 - val_loss: 0.5564 - val_accuracy: 0.7715\n",
      "Epoch 27/40\n",
      "96/96 [==============================] - 1s 6ms/step - loss: 0.5387 - accuracy: 0.7824 - val_loss: 0.5674 - val_accuracy: 0.7630\n",
      "Epoch 28/40\n",
      "96/96 [==============================] - 1s 6ms/step - loss: 0.5279 - accuracy: 0.7849 - val_loss: 0.5627 - val_accuracy: 0.7757\n",
      "Epoch 29/40\n",
      "96/96 [==============================] - 1s 5ms/step - loss: 0.5283 - accuracy: 0.7778 - val_loss: 0.5926 - val_accuracy: 0.7535\n",
      "Epoch 30/40\n",
      "96/96 [==============================] - 1s 5ms/step - loss: 0.5274 - accuracy: 0.7832 - val_loss: 0.5779 - val_accuracy: 0.7699\n",
      "Epoch 31/40\n",
      "96/96 [==============================] - 1s 5ms/step - loss: 0.5340 - accuracy: 0.7829 - val_loss: 0.5554 - val_accuracy: 0.7703\n",
      "Epoch 32/40\n",
      "96/96 [==============================] - 1s 5ms/step - loss: 0.5219 - accuracy: 0.7870 - val_loss: 0.5931 - val_accuracy: 0.7734\n",
      "Epoch 33/40\n",
      "96/96 [==============================] - 1s 5ms/step - loss: 0.5237 - accuracy: 0.7842 - val_loss: 0.5623 - val_accuracy: 0.7703\n",
      "Epoch 34/40\n",
      "96/96 [==============================] - 1s 5ms/step - loss: 0.5358 - accuracy: 0.7753 - val_loss: 0.5417 - val_accuracy: 0.7784\n",
      "Epoch 35/40\n",
      "96/96 [==============================] - 1s 5ms/step - loss: 0.5176 - accuracy: 0.7865 - val_loss: 0.5470 - val_accuracy: 0.7776\n",
      "Epoch 36/40\n",
      "96/96 [==============================] - 1s 5ms/step - loss: 0.5221 - accuracy: 0.7804 - val_loss: 0.5538 - val_accuracy: 0.7734\n",
      "Epoch 37/40\n",
      "96/96 [==============================] - 1s 5ms/step - loss: 0.5299 - accuracy: 0.7786 - val_loss: 0.5701 - val_accuracy: 0.7665\n",
      "Epoch 38/40\n",
      "96/96 [==============================] - 1s 5ms/step - loss: 0.5239 - accuracy: 0.7800 - val_loss: 0.5770 - val_accuracy: 0.7753\n",
      "Epoch 39/40\n",
      "96/96 [==============================] - 1s 6ms/step - loss: 0.5288 - accuracy: 0.7839 - val_loss: 0.5504 - val_accuracy: 0.7738\n",
      "Epoch 40/40\n",
      "96/96 [==============================] - 1s 8ms/step - loss: 0.5312 - accuracy: 0.7804 - val_loss: 0.5484 - val_accuracy: 0.7722\n"
     ]
    },
    {
     "data": {
      "text/plain": [
       "<keras.callbacks.History at 0x7fa5d4f3df50>"
      ]
     },
     "execution_count": 16,
     "metadata": {},
     "output_type": "execute_result"
    }
   ],
   "source": [
    "model.fit(train_data, train_labels, epochs=40, batch_size=64, validation_data=(val_data, val_labels))"
   ]
  },
  {
   "cell_type": "markdown",
   "id": "4c170a0f",
   "metadata": {
    "papermill": {
     "duration": 0.032197,
     "end_time": "2022-11-26T12:00:49.145202",
     "exception": false,
     "start_time": "2022-11-26T12:00:49.113005",
     "status": "completed"
    },
    "tags": []
   },
   "source": [
    "# **Predictions**"
   ]
  },
  {
   "cell_type": "code",
   "execution_count": 17,
   "id": "1090ccfc",
   "metadata": {
    "execution": {
     "iopub.execute_input": "2022-11-26T12:00:49.208601Z",
     "iopub.status.busy": "2022-11-26T12:00:49.207774Z",
     "iopub.status.idle": "2022-11-26T12:00:49.544442Z",
     "shell.execute_reply": "2022-11-26T12:00:49.543567Z"
    },
    "papermill": {
     "duration": 0.370618,
     "end_time": "2022-11-26T12:00:49.547174",
     "exception": false,
     "start_time": "2022-11-26T12:00:49.176556",
     "status": "completed"
    },
    "tags": []
   },
   "outputs": [],
   "source": [
    "x = test_df.to_numpy()\n",
    "#x = np.asarray(x).astype('float64')\n",
    "predictions = model.predict(x)"
   ]
  },
  {
   "cell_type": "code",
   "execution_count": 18,
   "id": "126cd6b4",
   "metadata": {
    "execution": {
     "iopub.execute_input": "2022-11-26T12:00:49.610780Z",
     "iopub.status.busy": "2022-11-26T12:00:49.610061Z",
     "iopub.status.idle": "2022-11-26T12:00:49.622127Z",
     "shell.execute_reply": "2022-11-26T12:00:49.620945Z"
    },
    "papermill": {
     "duration": 0.04792,
     "end_time": "2022-11-26T12:00:49.624885",
     "exception": false,
     "start_time": "2022-11-26T12:00:49.576965",
     "status": "completed"
    },
    "tags": []
   },
   "outputs": [],
   "source": [
    "predictions = [1 if pred >= 0.5 else 0 for pred in predictions]"
   ]
  },
  {
   "cell_type": "code",
   "execution_count": 19,
   "id": "497833b0",
   "metadata": {
    "execution": {
     "iopub.execute_input": "2022-11-26T12:00:49.687386Z",
     "iopub.status.busy": "2022-11-26T12:00:49.686935Z",
     "iopub.status.idle": "2022-11-26T12:00:49.722459Z",
     "shell.execute_reply": "2022-11-26T12:00:49.721275Z"
    },
    "papermill": {
     "duration": 0.069683,
     "end_time": "2022-11-26T12:00:49.725354",
     "exception": false,
     "start_time": "2022-11-26T12:00:49.655671",
     "status": "completed"
    },
    "tags": []
   },
   "outputs": [],
   "source": [
    "id_df = pd.read_csv('/kaggle/input/spaceship-titanic/test.csv')\n",
    "\n",
    "result = pd.DataFrame(columns=['PassengerId', 'Transported'])\n",
    "result['PassengerId'] = [id for id in id_df['PassengerId']]\n",
    "result['Transported'] = predictions\n",
    "result['Transported'].replace([0, 1], ['False', 'True'], inplace=True)"
   ]
  },
  {
   "cell_type": "code",
   "execution_count": 20,
   "id": "efad66cf",
   "metadata": {
    "execution": {
     "iopub.execute_input": "2022-11-26T12:00:49.788055Z",
     "iopub.status.busy": "2022-11-26T12:00:49.787621Z",
     "iopub.status.idle": "2022-11-26T12:00:49.801052Z",
     "shell.execute_reply": "2022-11-26T12:00:49.800075Z"
    },
    "papermill": {
     "duration": 0.047182,
     "end_time": "2022-11-26T12:00:49.803653",
     "exception": false,
     "start_time": "2022-11-26T12:00:49.756471",
     "status": "completed"
    },
    "tags": []
   },
   "outputs": [],
   "source": [
    "result.to_csv('submission1.csv', index=False)"
   ]
  },
  {
   "cell_type": "code",
   "execution_count": null,
   "id": "e0d9af54",
   "metadata": {
    "papermill": {
     "duration": 0.030362,
     "end_time": "2022-11-26T12:00:49.864740",
     "exception": false,
     "start_time": "2022-11-26T12:00:49.834378",
     "status": "completed"
    },
    "tags": []
   },
   "outputs": [],
   "source": []
  }
 ],
 "metadata": {
  "kernelspec": {
   "display_name": "Python 3",
   "language": "python",
   "name": "python3"
  },
  "language_info": {
   "codemirror_mode": {
    "name": "ipython",
    "version": 3
   },
   "file_extension": ".py",
   "mimetype": "text/x-python",
   "name": "python",
   "nbconvert_exporter": "python",
   "pygments_lexer": "ipython3",
   "version": "3.7.12"
  },
  "papermill": {
   "default_parameters": {},
   "duration": 64.275259,
   "end_time": "2022-11-26T12:00:53.101257",
   "environment_variables": {},
   "exception": null,
   "input_path": "__notebook__.ipynb",
   "output_path": "__notebook__.ipynb",
   "parameters": {},
   "start_time": "2022-11-26T11:59:48.825998",
   "version": "2.3.4"
  }
 },
 "nbformat": 4,
 "nbformat_minor": 5
}
